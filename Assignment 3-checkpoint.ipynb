{
 "cells": [
  {
   "cell_type": "code",
   "execution_count": 9,
   "metadata": {},
   "outputs": [
    {
     "name": "stdout",
     "output_type": "stream",
     "text": [
      "Twinkle, twinkle, little star, \n",
      "\tHow I wonder what you are! \n",
      "\t\tUp above the world so high, \n",
      "\t\tLike a diamond in the sky. \n",
      "Twinkle, twinkle, little star, \n",
      "\tHow I wonder what you are\n"
     ]
    }
   ],
   "source": [
    "\"\"\"\n",
    "Write a Python program to print the following string in a specific format (see the\n",
    "output).\n",
    "\n",
    "Twinkle, twinkle, little star,\n",
    "How I wonder what you are!\n",
    "Up above the world so high,\n",
    "Like a diamond in the sky.\n",
    "\n",
    "winkle, twinkle, little star,\n",
    "How I wonder what you are\n",
    "\"\"\"\n",
    "\n",
    "\n",
    "\n",
    "\n",
    "print(\"Twinkle, twinkle, little star, \\n\\tHow I wonder what you are! \\n\\t\\tUp above the world so high, \\n\\t\\tLike a diamond in the sky. \\nTwinkle, twinkle, little star, \\n\\tHow I wonder what you are\")\n",
    "\n"
   ]
  },
  {
   "cell_type": "code",
   "execution_count": 11,
   "metadata": {},
   "outputs": [
    {
     "name": "stdout",
     "output_type": "stream",
     "text": [
      "3.7.3 (default, Apr 24 2019, 15:29:51) [MSC v.1915 64 bit (AMD64)]\n"
     ]
    }
   ],
   "source": [
    "#write a python program to get the python version you are using\n",
    "\n",
    "\n",
    "import sys\n",
    "print (sys.version)"
   ]
  },
  {
   "cell_type": "code",
   "execution_count": 18,
   "metadata": {},
   "outputs": [
    {
     "name": "stdout",
     "output_type": "stream",
     "text": [
      "Today Date and time : \n",
      "10-23-21 21:41:45\n"
     ]
    }
   ],
   "source": [
    "#Write a Python program to display the current date and time.\n",
    "\n",
    "\n",
    "import datetime\n",
    "now = datetime.datetime.now()\n",
    "print (\"Today Date and time : \")\n",
    "print (now.strftime(\"%m-%d-%y %H:%M:%S\"))\n"
   ]
  },
  {
   "cell_type": "code",
   "execution_count": 24,
   "metadata": {},
   "outputs": [
    {
     "name": "stdout",
     "output_type": "stream",
     "text": [
      "Input the radius of the circle : 1\n",
      "The area of the circle with radius 1.0 is: 3.141592653589793\n"
     ]
    }
   ],
   "source": [
    "#Write a Python program which accepts the radius of a circle from the user and compute\n",
    "#the area.\n",
    "\n",
    "from math import pi\n",
    "r = float(input (\"Input the radius of the circle : \"))\n",
    "print (\"The area of the circle with radius \" + str(r) + \" is: \" + str(pi * r**2))\n"
   ]
  },
  {
   "cell_type": "code",
   "execution_count": 27,
   "metadata": {},
   "outputs": [
    {
     "name": "stdout",
     "output_type": "stream",
     "text": [
      "enter first number: 2\n",
      "enter second number: 4\n",
      "sum: 6\n"
     ]
    }
   ],
   "source": [
    "# Write a python program which takes two inputs from user and print them addition\n",
    "\n",
    "first = int(input(\"enter first number: \"))\n",
    "Second = int(input(\"enter second number: \"))\n",
    "Sum = first + Second;\n",
    "print(\"sum:\", Sum)"
   ]
  },
  {
   "cell_type": "code",
   "execution_count": 30,
   "metadata": {},
   "outputs": [
    {
     "name": "stdout",
     "output_type": "stream",
     "text": [
      "Lengt of the list =  7\n"
     ]
    }
   ],
   "source": [
    "# Write a program which print the length of the list?\n",
    "\n",
    "ListName = [\"Umair\", \"Khan\", 5,6,7,8,9]\n",
    "print (\"Lengt of the list = \", len(ListName))"
   ]
  },
  {
   "cell_type": "code",
   "execution_count": 56,
   "metadata": {},
   "outputs": [
    {
     "name": "stdout",
     "output_type": "stream",
     "text": [
      "15\n"
     ]
    }
   ],
   "source": [
    "#10.Write a Python program to sum all the numeric items in a list?\n",
    "\n",
    "\n",
    "\n",
    "List1 = [1,2,3,4,5]\n",
    "\n",
    "total = 0\n",
    "for i in List1:\n",
    "    total+=i\n",
    "\n",
    "print (total)"
   ]
  },
  {
   "cell_type": "code",
   "execution_count": 58,
   "metadata": {},
   "outputs": [
    {
     "name": "stdout",
     "output_type": "stream",
     "text": [
      "Largest element is: 770\n"
     ]
    }
   ],
   "source": [
    "#Write a Python program to get the largest number from a numeric list.\n",
    "\n",
    "list1 = [12, 60, 150, 400, 770]\n",
    "print(\"Largest element is:\", max(list1))"
   ]
  },
  {
   "cell_type": "code",
   "execution_count": 61,
   "metadata": {},
   "outputs": [
    {
     "name": "stdout",
     "output_type": "stream",
     "text": [
      "1\n",
      "1\n",
      "2\n",
      "3\n"
     ]
    }
   ],
   "source": [
    "# Write a program that prints out all the elements of the list that are less than 5.\n",
    "\n",
    "a = [1, 1, 2, 3, 5, 8, 13, 21, 34, 55, 89]\n",
    "\n",
    "for i in a:\n",
    "\n",
    "    if i < 5:\n",
    "\n",
    "        print(i)"
   ]
  },
  {
   "cell_type": "code",
   "execution_count": 65,
   "metadata": {},
   "outputs": [
    {
     "name": "stdout",
     "output_type": "stream",
     "text": [
      "Input your First Name : Umair\n",
      "Input your Last Name : Khan\n",
      "Khan  Umair\n"
     ]
    }
   ],
   "source": [
    "\"\"\"\n",
    "Write a Python program which accepts the user's first and last name and print them in\n",
    "reverse order with a space between them.\n",
    "\"\"\"\n",
    "\n",
    "\n",
    "\n",
    "\n",
    "\n",
    "fname = input(\"Input your First Name : \")\n",
    "lname = input(\"Input your Last Name : \")\n",
    "print (\"\" + lname + \"  \" + fname)\n"
   ]
  },
  {
   "cell_type": "code",
   "execution_count": 79,
   "metadata": {},
   "outputs": [
    {
     "name": "stdout",
     "output_type": "stream",
     "text": [
      "Enter a number: 3\n",
      "This is an odd number.\n"
     ]
    }
   ],
   "source": [
    "\"\"\"\n",
    "Write a program which take input from user and identify that the given number is even\n",
    "or odd?\n",
    "\"\"\"\n",
    "\n",
    "num = int(input(\"Enter a number: \"))\n",
    "n= num % 2\n",
    "if n > 0:\n",
    "    print(\"This is an odd number.\")\n",
    "else:\n",
    "    print(\"This is an even number.\")"
   ]
  },
  {
   "cell_type": "code",
   "execution_count": 84,
   "metadata": {},
   "outputs": [
    {
     "name": "stdout",
     "output_type": "stream",
     "text": [
      " English marks: 10\n",
      " Urdu marks: 20\n",
      " Maths marks: 30\n",
      " Biology marks: 40\n",
      " Physics marks: 50\n",
      "\n",
      "Average Marks = 30.0\n",
      "\n",
      "The Total marks is:   \t 150\n"
     ]
    }
   ],
   "source": [
    "\"\"\"\n",
    "Write a program which takes 5 inputs from user for different subject’s marks, total it\n",
    "and generate mark sheet using grades\n",
    "\"\"\"\n",
    "\n",
    "s1 = int(input(\" English marks: \"))\n",
    "s2 = int(input(\" Urdu marks: \"))\n",
    "s3 = int(input(\" Maths marks: \"))\n",
    "s4 = int(input(\" Biology marks: \"))\n",
    "s5 = int(input(\" Physics marks: \"))\n",
    "total=(s1 + s2+ s3+ s4 + s5)\n",
    "avg = (s1 + s2+ s3+ s4 + s5) / 5;\n",
    "print(\"\\nAverage Marks =\", avg)\n",
    "print (\"\\nThe Total marks is:   \\t\", total,)\n"
   ]
  },
  {
   "cell_type": "code",
   "execution_count": null,
   "metadata": {},
   "outputs": [],
   "source": []
  }
 ],
 "metadata": {
  "kernelspec": {
   "display_name": "Python 3",
   "language": "python",
   "name": "python3"
  },
  "language_info": {
   "codemirror_mode": {
    "name": "ipython",
    "version": 3
   },
   "file_extension": ".py",
   "mimetype": "text/x-python",
   "name": "python",
   "nbconvert_exporter": "python",
   "pygments_lexer": "ipython3",
   "version": "3.7.3"
  }
 },
 "nbformat": 4,
 "nbformat_minor": 2
}
